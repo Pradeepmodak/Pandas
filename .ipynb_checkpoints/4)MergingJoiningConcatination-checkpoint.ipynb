{
 "cells": [
  {
   "cell_type": "code",
   "execution_count": null,
   "id": "bdce8522-2cd0-42f4-a847-79286d1a310b",
   "metadata": {},
   "outputs": [],
   "source": []
  },
  {
   "cell_type": "markdown",
   "id": "892327ba-8573-41f5-9868-89952bbb531f",
   "metadata": {},
   "source": [
    "**Merging 2 dataframes**"
   ]
  },
  {
   "cell_type": "markdown",
   "id": "a7dfe672-e3ef-4747-ac8c-201e67d908cb",
   "metadata": {},
   "source": [
    "**Concatination of 2 dataframes**"
   ]
  },
  {
   "cell_type": "markdown",
   "id": "d23f49b0-da08-4b45-ae67-375074d26f9d",
   "metadata": {},
   "source": [
    "**Joining of 2 dataframes**"
   ]
  }
 ],
 "metadata": {
  "kernelspec": {
   "display_name": "Python [conda env:base] *",
   "language": "python",
   "name": "conda-base-py"
  },
  "language_info": {
   "codemirror_mode": {
    "name": "ipython",
    "version": 3
   },
   "file_extension": ".py",
   "mimetype": "text/x-python",
   "name": "python",
   "nbconvert_exporter": "python",
   "pygments_lexer": "ipython3",
   "version": "3.12.7"
  }
 },
 "nbformat": 4,
 "nbformat_minor": 5
}
