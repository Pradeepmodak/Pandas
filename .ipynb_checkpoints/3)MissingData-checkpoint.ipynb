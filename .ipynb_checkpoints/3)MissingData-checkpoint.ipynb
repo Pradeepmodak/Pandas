{
 "cells": [
  {
   "cell_type": "markdown",
   "metadata": {},
   "source": [
    "# Handling Missing Data in Pandas\n",
    "\n",
    "Missing data is a common issue in real-world datasets. Pandas provides various tools and methods to detect, handle, and work with missing data."
   ]
  },
  {
   "cell_type": "code",
   "execution_count": null,
   "metadata": {},
   "outputs": [],
   "source": [
    "# Import necessary libraries\n",
    "import pandas as pd\n",
    "import numpy as np\n",
    "import matplotlib.pyplot as plt\n",
    "import seaborn as sns\n",
    "\n",
    "# Set the style for plots\n",
    "sns.set(style=\"whitegrid\")\n",
    "\n",
    "# Print pandas version\n",
    "print(f\"Pandas version: {pd.__version__}\")"
   ]
  },
  {
   "cell_type": "markdown",
   "metadata": {},
   "source": [
    "## Creating Data with Missing Values"
   ]
  },
  {
   "cell_type": "code",
   "execution_count": null,
   "metadata": {},
   "outputs": [],
   "source": [
    "# Create a DataFrame with missing values\n",
    "data = {\n",
    "    'A': [1, 2, np.nan, 4, 5],\n",
    "    'B': [np.nan, 2, 3, 4, 5],\n",
    "    'C': [1, 2, 3, np.nan, np.nan],\n",
    "    'D': [np.nan, np.nan, np.nan, 4, 5]\n",
    "}\n",
    "\n",
    "df = pd.DataFrame(data)\n",
    "print(\"DataFrame with missing values:\")\n",
    "print(df)"
   ]
  },
  {
   "cell_type": "markdown",
   "metadata": {},
   "source": [
    "## Detecting Missing Values"
   ]
  },
  {
   "cell_type": "code",
   "execution_count": null,
   "metadata": {},
   "outputs": [],
   "source": [
    "# Check for missing values\n",
    "print(\"Missing values (True indicates missing):\")\n",
    "print(df.isnull())"
   ]
  },
  {
   "cell_type": "code",
   "execution_count": null,
   "metadata": {},
   "outputs": [],
   "source": [
    "# Check for non-missing values\n",
    "print(\"Non-missing values (True indicates present):\")\n",
    "print(df.notnull())"
   ]
  },
  {
   "cell_type": "code",
   "execution_count": null,
   "metadata": {},
   "outputs": [],
   "source": [
    "# Count missing values in each column\n",
    "print(\"Number of missing values in each column:\")\n",
    "print(df.isnull().sum())"
   ]
  },
  {
   "cell_type": "code",
   "execution_count": null,
   "metadata": {},
   "outputs": [],
   "source": [
    "# Count missing values in each row\n",
    "print(\"Number of missing values in each row:\")\n",
    "print(df.isnull().sum(axis=1))"
   ]
  },
  {
   "cell_type": "code",
   "execution_count": null,
   "metadata": {},
   "outputs": [],
   "source": [
    "# Calculate percentage of missing values in each column\n",
    "print(\"Percentage of missing values in each column:\")\n",
    "print((df.isnull().sum() / len(df)) * 100)"
   ]
  },
  {
   "cell_type": "code",
   "execution_count": null,
   "metadata": {},
   "outputs": [],
   "source": [
    "# Check if any value is missing in the DataFrame\n",
    "print(\"Are there any missing values in the DataFrame?\", df.isnull().any().any())"
   ]
  },
  {
   "cell_type": "code",
   "execution_count": null,
   "metadata": {},
   "outputs": [],
   "source": [
    "# Visualize missing values\n",
    "plt.figure(figsize=(10, 6))\n",
    "sns.heatmap(df.isnull(), cbar=False, cmap='viridis', yticklabels=False)\n",
    "plt.title('Missing Values Heatmap')\n",
    "plt.tight_layout()\n",
    "plt.show()"
   ]
  },
  {
   "cell_type": "markdown",
   "metadata": {},
   "source": [
    "## Handling Missing Values"
   ]
  },
  {
   "cell_type": "markdown",
   "metadata": {},
   "source": [
    "### 1. Dropping Missing Values"
   ]
  },
  {
   "cell_type": "code",
   "execution_count": null,
   "metadata": {},
   "outputs": [],
   "source": [
    "# Drop rows with any missing values\n",
    "df_dropped_rows = df.dropna()\n",
    "print(\"DataFrame after dropping rows with missing values:\")\n",
    "print(df_dropped_rows)"
   ]
  },
  {
   "cell_type": "code",
   "execution_count": null,
   "metadata": {},
   "outputs": [],
   "source": [
    "# Drop rows with all missing values\n",
    "df_dropped_all_na = df.dropna(how='all')\n",
    "print(\"DataFrame after dropping rows with all missing values:\")\n",
    "print(df_dropped_all_na)"
   ]
  },
  {
   "cell_type": "code",
   "execution_count": null,
   "metadata": {},
   "outputs": [],
   "source": [
    "# Drop rows with at least 2 missing values\n",
    "df_dropped_thresh = df.dropna(thresh=3)  # Keep rows with at least 3 non-NA values\n",
    "print(\"DataFrame after dropping rows with at least 2 missing values:\")\n",
    "print(df_dropped_thresh)"
   ]
  },
  {
   "cell_type": "code",
   "execution_count": null,
   "metadata": {},
   "outputs": [],
   "source": [
    "# Drop columns with any missing values\n",
    "df_dropped_cols = df.dropna(axis=1)\n",
    "print(\"DataFrame after dropping columns with missing values:\")\n",
    "print(df_dropped_cols)"
   ]
  },
  {
   "cell_type": "code",
   "execution_count": null,
   "metadata": {},
   "outputs": [],
   "source": [
    "# Drop columns with at least 3 missing values\n",
    "df_dropped_cols_thresh = df.dropna(axis=1, thresh=3)  # Keep columns with at least 3 non-NA values\n",
    "print(\"DataFrame after dropping columns with at least 3 missing values:\")\n",
    "print(df_dropped_cols_thresh)"
   ]
  },
  {
   "cell_type": "markdown",
   "metadata": {},
   "source": [
    "### 2. Filling Missing Values"
   ]
  },
  {
   "cell_type": "code",
   "execution_count": null,
   "metadata": {},
   "outputs": [],
   "source": [
    "# Fill all missing values with a specific value\n",
    "df_filled_0 = df.fillna(0)\n",
    "print(\"DataFrame after filling missing values with 0:\")\n",
    "print(df_filled_0)"
   ]
  },
  {
   "cell_type": "code",
   "execution_count": null,
   "metadata": {},
   "outputs": [],
   "source": [
    "# Fill missing values with different values for each column\n",
    "values = {'A': 0, 'B': 1, 'C': 2, 'D': 3}\n",
    "df_filled_dict = df.fillna(value=values)\n",
    "print(\"DataFrame after filling missing values with different values for each column:\")\n",
    "print(df_filled_dict)"
   ]
  },
  {
   "cell_type": "code",
   "execution_count": null,
   "metadata": {},
   "outputs": [],
   "source": [
    "# Fill missing values with the mean of each column\n",
    "df_filled_mean = df.fillna(df.mean())\n",
    "print(\"DataFrame after filling missing values with column means:\")\n",
    "print(df_filled_mean)"
   ]
  },
  {
   "cell_type": "code",
   "execution_count": null,
   "metadata": {},
   "outputs": [],
   "source": [
    "# Fill missing values with the median of each column\n",
    "df_filled_median = df.fillna(df.median())\n",
    "print(\"DataFrame after filling missing values with column medians:\")\n",
    "print(df_filled_median)"
   ]
  },
  {
   "cell_type": "code",
   "execution_count": null,
   "metadata": {},
   "outputs": [],
   "source": [
    "# Forward fill (propagate last valid observation forward)\n",
    "df_ffill = df.fillna(method='ffill')\n",
    "print(\"DataFrame after forward fill:\")\n",
    "print(df_ffill)"
   ]
  },
  {
   "cell_type": "code",
   "execution_count": null,
   "metadata": {},
   "outputs": [],
   "source": [
    "# Backward fill (propagate next valid observation backward)\n",
    "df_bfill = df.fillna(method='bfill')\n",
    "print(\"DataFrame after backward fill:\")\n",
    "print(df_bfill)"
   ]
  },
  {
   "cell_type": "markdown",
   "metadata": {},
   "source": [
    "### 3. Interpolation"
   ]
  },
  {
   "cell_type": "code",
   "execution_count": null,
   "metadata": {},
   "outputs": [],
   "source": [
    "# Create a time series with missing values\n",
    "dates = pd.date_range('20230101', periods=10)\n",
    "ts = pd.Series([1, 2, np.nan, np.nan, 5, 6, np.nan, 8, 9, 10], index=dates)\n",
    "print(\"Time series with missing values:\")\n",
    "print(ts)"
   ]
  },
  {
   "cell_type": "code",
   "execution_count": null,
   "metadata": {},
   "outputs": [],
   "source": [
    "# Linear interpolation\n",
    "ts_linear = ts.interpolate(method='linear')\n",
    "print(\"Time series after linear interpolation:\")\n",
    "print(ts_linear)"
   ]
  },
  {
   "cell_type": "code",
   "execution_count": null,
   "metadata": {},
   "outputs": [],
   "source": [
    "# Polynomial interpolation\n",
    "ts_polynomial = ts.interpolate(method='polynomial', order=2)\n",
    "print(\"Time series after polynomial interpolation:\")\n",
    "print(ts_polynomial)"
   ]
  },
  {
   "cell_type": "code",
   "execution_count": null,
   "metadata": {},
   "outputs": [],
   "source": [
    "# Visualize different interpolation methods\n",
    "plt.figure(figsize=(12, 6))\n",
    "plt.plot(ts.index, ts, 'o-', label='Original Data', alpha=0.7)\n",
    "plt.plot(ts_linear.index, ts_linear, 's-', label='Linear Interpolation')\n",
    "plt.plot(ts_polynomial.index, ts_polynomial, '^-', label='Polynomial Interpolation')\n",
    "plt.title('Comparison of Interpolation Methods')\n",
    "plt.legend()\n",
    "plt.grid(True)\n",
    "plt.tight_layout()\n",
    "plt.show()"
   ]
  },
  {
   "cell_type": "markdown",
   "metadata": {},
   "source": [
    "## Working with Missing Data in Calculations"
   ]
  },
  {
   "cell_type": "code",
   "execution_count": null,
   "metadata": {},
   "outputs": [],
   "source": [
    "# Create a DataFrame with missing values\n",
    "data = {\n",
    "    'A': [1, 2, np.nan, 4, 5],\n",
    "    'B': [np.nan, 2, 3, 4, 5],\n",
    "    'C': [1, 2, 3, np.nan, np.nan]\n",
    "}\n",
    "\n",
    "df = pd.DataFrame(data)\n",
    "print(\"DataFrame:\")\n",
    "print(df)"
   ]
  },
  {
   "cell_type": "code",
   "execution_count": null,
   "metadata": {},
   "outputs": [],
   "source": [
    "# Sum with default behavior (skipna=True)\n",
    "print(\"Sum of each column (skipna=True):\")\n",
    "print(df.sum())\n",
    "\n",
    "# Sum with skipna=False\n",
    "print(\"\\nSum of each column (skipna=False):\")\n",
    "print(df.sum(skipna=False))"
   ]
  },
  {
   "cell_type": "code",
   "execution_count": null,
   "metadata": {},
   "outputs": [],
   "source": [
    "# Mean with default behavior (skipna=True)\n",
    "print(\"Mean of each column (skipna=True):\")\n",
    "print(df.mean())\n",
    "\n",
    "# Mean with skipna=False\n",
    "print(\"\\nMean of each column (skipna=False):\")\n",
    "print(df.mean(skipna=False))"
   ]
  },
  {
   "cell_type": "markdown",
   "metadata": {},
   "source": [
    "## Practical Example: Cleaning a Real Dataset"
   ]
  },
  {
   "cell_type": "code",
   "execution_count": null,
   "metadata": {},
   "outputs": [],
   "source": [
    "# Create a more realistic dataset with missing values\n",
    "data = {\n",
    "    'Name': ['John', 'Anna', 'Peter', 'Linda', 'Sarah', np.nan, 'Emma', 'David'],\n",
    "    'Age': [28, 34, np.nan, 42, 31, 45, np.nan, 38],\n",
    "    'City': ['New York', np.nan, 'Berlin', 'London', 'Sydney', 'Toronto', np.nan, 'Chicago'],\n",
    "    'Salary': [65000, 70000, 62000, np.nan, 75000, 90000, 82000, np.nan],\n",
    "    'Department': ['IT', 'HR', 'IT', 'Finance', 'HR', np.nan, 'Finance', 'Marketing'],\n",
    "    'Years_Employed': [3, 5, 2, 10, np.nan, 15, 7, 8]\n",
    "}\n",
    "\n",
    "employees = pd.DataFrame(data)\n",
    "print(\"Employee dataset with missing values:\")\n",
    "print(employees)"
   ]
  },
  {
   "cell_type": "code",
   "execution_count": null,
   "metadata": {},
   "outputs": [],
   "source": [
    "# Analyze missing values\n",
    "print(\"Number of missing values in each column:\")\n",
    "print(employees.isnull().sum())\n",
    "\n",
    "print(\"\\nPercentage of missing values in each column:\")\n",
    "print((employees.isnull().sum() / len(employees)) * 100)"
   ]
  },
  {
   "cell_type": "code",
   "execution_count": null,
   "metadata": {},
   "outputs": [],
   "source": [
    "# Visualize missing values\n",
    "plt.figure(figsize=(10, 6))\n",
    "sns.heatmap(employees.isnull(), cbar=False, cmap='viridis', yticklabels=False)\n",
    "plt.title('Missing Values in Employee Dataset')\n",
    "plt.tight_layout()\n",
    "plt.show()"
   ]
  },
  {
   "cell_type": "code",
   "execution_count": null,
   "metadata": {},
   "outputs": [],
   "source": [
    "# Clean the dataset\n",
    "employees_clean = employees.copy()\n",
    "\n",
    "# 1. Drop rows with missing Name (assuming Name is a critical identifier)\n",
    "employees_clean = employees_clean.dropna(subset=['Name'])\n",
    "\n",
    "# 2. Fill missing Age values with the median age\n",
    "employees_clean['Age'] = employees_clean['Age'].fillna(employees_clean['Age'].median())\n",
    "\n",
    "# 3. Fill missing City values with 'Unknown'\n",
    "employees_clean['City'] = employees_clean['City'].fillna('Unknown')\n",
    "\n",
    "# 4. Fill missing Salary values with the mean salary for the respective department\n",
    "dept_mean_salary = employees_clean.groupby('Department')['Salary'].transform('mean')\n",
    "employees_clean['Salary'] = employees_clean['Salary'].fillna(dept_mean_salary)\n",
    "\n",
    "# 5. Fill any remaining missing Salary values with the overall mean\n",
    "employees_clean['Salary'] = employees_clean['Salary'].fillna(employees_clean['Salary'].mean())\n",
    "\n",
    "# 6. Fill missing Department values with 'Unassigned'\n",
    "employees_clean['Department'] = employees_clean['Department'].fillna('Unassigned')\n",
    "\n",
    "# 7. Fill missing Years_Employed with the median\n",
    "employees_clean['Years_Employed'] = employees_clean['Years_Employed'].fillna(employees_clean['Years_Employed'].median())\n",
    "\n",
    "print(\"Cleaned employee dataset:\")\n",
    "print(employees_clean)"
   ]
  },
  {
   "cell_type": "code",
   "execution_count": null,
   "metadata": {},
   "outputs": [],
   "source": [
    "# Verify that all missing values have been handled\n",
    "print(\"Number of missing values in cleaned dataset:\")\n",
    "print(employees_clean.isnull().sum())"
   ]
  },
  {
   "cell_type": "code",
   "execution_count": null,
   "metadata": {},
   "outputs": [],
   "source": [
    "# Analyze the cleaned dataset\n",
    "print(\"Summary statistics of cleaned dataset:\")\n",
    "print(employees_clean.describe())"
   ]
  },
  {
   "cell_type": "code",
   "execution_count": null,
   "metadata": {},
   "outputs": [],
   "source": [
    "# Visualize the salary distribution by department\n",
    "plt.figure(figsize=(12, 6))\n",
    "sns.boxplot(x='Department', y='Salary', data=employees_clean)\n",
    "plt.title('Salary Distribution by Department (Cleaned Data)')\n",
    "plt.ylabel('Salary ($)')\n",
    "plt.grid(True, axis='y')\n",
    "plt.tight_layout()\n",
    "plt.show()"
   ]
  },
  {
   "cell_type": "markdown",
   "metadata": {},
   "source": [
    "## Exercise: Handling Missing Values in Weather Data\n",
    "\n",
    "Create a weather dataset with missing values and perform the following operations:\n",
    "1. Analyze the missing values\n",
    "2. Clean the dataset using appropriate methods\n",
    "3. Visualize the original and cleaned data\n",
    "4. Calculate summary statistics"
   ]
  },
  {
   "cell_type": "code",
   "execution_count": null,
   "metadata": {},
   "outputs": [],
   "source": [
    "# Solution\n",
    "# Create a weather dataset with missing values\n",
    "np.random.seed(42)\n",
    "dates = pd.date_range('20230101', periods=30)\n",
    "temp = np.random.normal(20, 5, 30)  # Temperature in Celsius\n",
    "humidity = np.random.normal(60, 15, 30)  # Humidity in %\n",
    "wind_speed = np.random.normal(15, 5, 30)  # Wind speed in km/h\n",
    "precipitation = np.random.normal(5, 3, 30)  # Precipitation in mm\n",
    "\n",
    "# Introduce missing values\n",
    "temp[np.random.choice(30, 5, replace=False)] = np.nan\n",
    "humidity[np.random.choice(30, 7, replace=False)] = np.nan\n",
    "wind_speed[np.random.choice(30, 4, replace=False)] = np.nan\n",
    "precipitation[np.random.choice(30, 6, replace=False)] = np.nan\n",
    "\n",
    "weather = pd.DataFrame({\n",
    "    'Date': dates,\n",
    "    'Temperature': temp,\n",
    "    'Humidity': humidity,\n",
    "    'Wind_Speed': wind_speed,\n",
    "    'Precipitation': precipitation\n",
    "})\n",
    "\n",
    "print(\"Weather dataset with missing values:\")\n",
    "print(weather.head(10))\n",
    "\n",
    "# 1. Analyze missing values\n",
    "print(\"\\nNumber of missing values in each column:\")\n",
    "print(weather.isnull().sum())\n",
    "\n",
    "print(\"\\nPercentage of missing values in each column:\")\n",
    "print((weather.isnull().sum() / len(weather)) * 100)\n",
    "\n",
    "# Visualize missing values\n",
    "plt.figure(figsize=(10, 6))\n",
    "sns.heatmap(weather.isnull(), cbar=False, cmap='viridis', yticklabels=False)\n",
    "plt.title('Missing Values in Weather Dataset')\n",
    "plt.tight_layout()\n",
    "plt.show()\n",
    "\n",
    "# 2. Clean the dataset\n",
    "weather_clean = weather.copy()\n",
    "\n",
    "# Use linear interpolation for temperature (time series data)\n",
    "weather_clean['Temperature'] = weather_clean['Temperature'].interpolate(method='linear')\n",
    "\n",
    "# Use forward fill followed by backward fill for humidity\n",
    "weather_clean['Humidity'] = weather_clean['Humidity'].fillna(method='ffill').fillna(method='bfill')\n",
    "\n",
    "# Use mean for wind speed\n",
    "weather_clean['Wind_Speed'] = weather_clean['Wind_Speed'].fillna(weather_clean['Wind_Speed'].mean())\n",
    "\n",
    "# Use median for precipitation (less affected by outliers)\n",
    "weather_clean['Precipitation'] = weather_clean['Precipitation'].fillna(weather_clean['Precipitation'].median())\n",
    "\n",
    "print(\"\\nCleaned weather dataset:\")\n",
    "print(weather_clean.head(10))\n",
    "\n",
    "# Verify that all missing values have been handled\n",
    "print(\"\\nNumber of missing values in cleaned dataset:\")\n",
    "print(weather_clean.isnull().sum())\n",
    "\n",
    "# 3. Visualize original and cleaned data\n",
    "plt.figure(figsize=(14, 10))\n",
    "\n",
    "# Temperature\n",
    "plt.subplot(2, 2, 1)\n",
    "plt.plot(weather['Date'], weather['Temperature'], 'o-', label='Original', alpha=0.7)\n",
    "plt.plot(weather_clean['Date'], weather_clean['Temperature'], 's-', label='Cleaned')\n",
    "plt.title('Temperature')\n",
    "plt.legend()\n",
    "plt.grid(True)\n",
    "\n",
    "# Humidity\n",
    "plt.subplot(2, 2, 2)\n",
    "plt.plot(weather['Date'], weather['Humidity'], 'o-', label='Original', alpha=0.7)\n",
    "plt.plot(weather_clean['Date'], weather_clean['Humidity'], 's-', label='Cleaned')\n",
    "plt.title('Humidity')\n",
    "plt.legend()\n",
    "plt.grid(True)\n",
    "\n",
    "# Wind Speed\n",
    "plt.subplot(2, 2, 3)\n",
    "plt.plot(weather['Date'], weather['Wind_Speed'], 'o-', label='Original', alpha=0.7)\n",
    "plt.plot(weather_clean['Date'], weather_clean['Wind_Speed'], 's-', label='Cleaned')\n",
    "plt.title('Wind Speed')\n",
    "plt.legend()\n",
    "plt.grid(True)\n",
    "\n",
    "# Precipitation\n",
    "plt.subplot(2, 2, 4)\n",
    "plt.plot(weather['Date'], weather['Precipitation'], 'o-', label='Original', alpha=0.7)\n",
    "plt.plot(weather_clean['Date'], weather_clean['Precipitation'], 's-', label='Cleaned')\n",
    "plt.title('Precipitation')\n",
    "plt.legend()\n",
    "plt.grid(True)\n",
    "\n",
    "plt.tight_layout()\n",
    "plt.show()\n",
    "\n",
    "# 4. Calculate summary statistics\n",
    "print(\"\\nSummary statistics of original dataset (with missing values):\")\n",
    "print(weather.describe())\n",
    "\n",
    "print(\"\\nSummary statistics of cleaned dataset:\")\n",
    "print(weather_clean.describe())"
   ]
  }
 ],
 "metadata": {
  "kernelspec": {
   "display_name": "Python [conda env:base] *",
   "language": "python",
   "name": "conda-base-py"
  },
  "language_info": {
   "codemirror_mode": {
    "name": "ipython",
    "version": 3
   },
   "file_extension": ".py",
   "mimetype": "text/x-python",
   "name": "python",
   "nbconvert_exporter": "python",
   "pygments_lexer": "ipython3",
   "version": "3.12.7"
  }
 },
 "nbformat": 4,
 "nbformat_minor": 5
}
