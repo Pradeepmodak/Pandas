{
 "cells": [
  {
   "cell_type": "markdown",
   "id": "f905d722-740e-4afb-945a-1252dde1e47c",
   "metadata": {},
   "source": [
    "# Pandas Series\n",
    "\n",
    "A Series is a one-dimensional labeled array capable of holding any data type. The axis labels are collectively called the index."
   ]
  },
  {
   "cell_type": "markdown",
   "id": "44d5fa51-790d-45a5-a9f5-96258b3b7d8f",
   "metadata": {},
   "source": [
    "## Creating Series\n",
    "There are multiple ways to create a pandas Series:"
   ]
  }
 ],
 "metadata": {
  "kernelspec": {
   "display_name": "Python [conda env:base] *",
   "language": "python",
   "name": "conda-base-py"
  },
  "language_info": {
   "codemirror_mode": {
    "name": "ipython",
    "version": 3
   },
   "file_extension": ".py",
   "mimetype": "text/x-python",
   "name": "python",
   "nbconvert_exporter": "python",
   "pygments_lexer": "ipython3",
   "version": "3.12.7"
  }
 },
 "nbformat": 4,
 "nbformat_minor": 5
}
