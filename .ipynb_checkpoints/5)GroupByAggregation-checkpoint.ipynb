{
 "cells": [
  {
   "cell_type": "code",
   "execution_count": null,
   "id": "6f60df6a-c402-4152-8087-1354eb0181aa",
   "metadata": {},
   "outputs": [],
   "source": []
  },
  {
   "cell_type": "markdown",
   "id": "82bee9a1-5f9b-47f1-a539-335e53b68f7e",
   "metadata": {},
   "source": [
    "**GroupBy**"
   ]
  },
  {
   "cell_type": "markdown",
   "id": "08f8946b-6494-44f0-b9cb-4861cd27edfc",
   "metadata": {},
   "source": [
    "**Aggregation**"
   ]
  },
  {
   "cell_type": "code",
   "execution_count": null,
   "id": "0faadbc7-b4fd-4d68-87f5-3c01663c5f46",
   "metadata": {},
   "outputs": [],
   "source": []
  }
 ],
 "metadata": {
  "kernelspec": {
   "display_name": "Python [conda env:base] *",
   "language": "python",
   "name": "conda-base-py"
  },
  "language_info": {
   "codemirror_mode": {
    "name": "ipython",
    "version": 3
   },
   "file_extension": ".py",
   "mimetype": "text/x-python",
   "name": "python",
   "nbconvert_exporter": "python",
   "pygments_lexer": "ipython3",
   "version": "3.12.7"
  }
 },
 "nbformat": 4,
 "nbformat_minor": 5
}
