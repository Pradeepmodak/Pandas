{
 "cells": [
  {
   "cell_type": "code",
   "execution_count": null,
   "id": "d5a034c1-8c61-4a39-b25c-f59b65e9035a",
   "metadata": {},
   "outputs": [],
   "source": [
    "Pandas series : \n",
    "A Series is 1D labeled array capable of holding any data type . \n",
    "The axis are collectively called the index."
   ]
  },
  {
   "cell_type": "code",
   "execution_count": 2,
   "id": "b96fc75d-4be4-40d3-baff-0f9ba80a51d1",
   "metadata": {},
   "outputs": [],
   "source": [
    "import numpy as np \n",
    "import pandas as pd"
   ]
  },
  {
   "cell_type": "code",
   "execution_count": 3,
   "id": "2a84b502-49d9-4b41-87ce-6e6fb9397a3f",
   "metadata": {},
   "outputs": [],
   "source": [
    "labels= ['a','b','c']\n",
    "my_list=[10,20,30]\n",
    "arr=np.array([10,20,30])\n",
    "d={1:10,2:20,3:30}"
   ]
  },
  {
   "cell_type": "code",
   "execution_count": 5,
   "id": "334e24ea-465c-4bab-8a83-dce04b9bc3c7",
   "metadata": {},
   "outputs": [
    {
     "data": {
      "text/plain": [
       "0    10\n",
       "1    20\n",
       "2    30\n",
       "dtype: int64"
      ]
     },
     "execution_count": 5,
     "metadata": {},
     "output_type": "execute_result"
    }
   ],
   "source": [
    "pd.Series(my_list)"
   ]
  },
  {
   "cell_type": "code",
   "execution_count": 7,
   "id": "43ee478f-a954-40bf-a31f-1819500c36e3",
   "metadata": {},
   "outputs": [
    {
     "data": {
      "text/plain": [
       "a    10\n",
       "b    20\n",
       "c    30\n",
       "dtype: int64"
      ]
     },
     "execution_count": 7,
     "metadata": {},
     "output_type": "execute_result"
    }
   ],
   "source": [
    "pd.Series(my_list,labels)"
   ]
  },
  {
   "cell_type": "code",
   "execution_count": 8,
   "id": "4fb0fdf3-3479-45a0-8b11-9518206398a5",
   "metadata": {},
   "outputs": [
    {
     "data": {
      "text/plain": [
       "1    10\n",
       "2    20\n",
       "3    30\n",
       "dtype: int64"
      ]
     },
     "execution_count": 8,
     "metadata": {},
     "output_type": "execute_result"
    }
   ],
   "source": [
    "pd.Series(d)"
   ]
  },
  {
   "cell_type": "code",
   "execution_count": 9,
   "id": "18a9e7d5-5126-43c5-82cc-d737e1676d8e",
   "metadata": {},
   "outputs": [
    {
     "data": {
      "text/plain": [
       "{1: 10, 2: 20, 3: 30}"
      ]
     },
     "execution_count": 9,
     "metadata": {},
     "output_type": "execute_result"
    }
   ],
   "source": [
    "d"
   ]
  },
  {
   "cell_type": "code",
   "execution_count": null,
   "id": "3eea3439-450a-4ee3-b996-f7c5184a7754",
   "metadata": {},
   "outputs": [],
   "source": []
  }
 ],
 "metadata": {
  "kernelspec": {
   "display_name": "Python [conda env:base] *",
   "language": "python",
   "name": "conda-base-py"
  },
  "language_info": {
   "codemirror_mode": {
    "name": "ipython",
    "version": 3
   },
   "file_extension": ".py",
   "mimetype": "text/x-python",
   "name": "python",
   "nbconvert_exporter": "python",
   "pygments_lexer": "ipython3",
   "version": "3.13.5"
  }
 },
 "nbformat": 4,
 "nbformat_minor": 5
}
