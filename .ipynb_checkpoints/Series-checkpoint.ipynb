{
 "cells": [
  {
   "cell_type": "code",
   "execution_count": null,
   "id": "d5a034c1-8c61-4a39-b25c-f59b65e9035a",
   "metadata": {},
   "outputs": [],
   "source": [
    "Pandas series : \n",
    "A Series is 1D labeled array capable of holding any data type . \n",
    "The axis are collectively called the index."
   ]
  },
  {
   "cell_type": "code",
   "execution_count": null,
   "id": "2a84b502-49d9-4b41-87ce-6e6fb9397a3f",
   "metadata": {},
   "outputs": [],
   "source": []
  }
 ],
 "metadata": {
  "kernelspec": {
   "display_name": "Python [conda env:base] *",
   "language": "python",
   "name": "conda-base-py"
  },
  "language_info": {
   "codemirror_mode": {
    "name": "ipython",
    "version": 3
   },
   "file_extension": ".py",
   "mimetype": "text/x-python",
   "name": "python",
   "nbconvert_exporter": "python",
   "pygments_lexer": "ipython3",
   "version": "3.13.5"
  }
 },
 "nbformat": 4,
 "nbformat_minor": 5
}
